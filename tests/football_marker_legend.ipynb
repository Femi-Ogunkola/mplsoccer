{
 "cells": [
  {
   "cell_type": "markdown",
   "metadata": {},
   "source": [
    "# How to plot markers on top of each other in legend without HandlerTuple"
   ]
  },
  {
   "cell_type": "code",
   "execution_count": 1,
   "metadata": {},
   "outputs": [],
   "source": [
    "import matplotlib.path as mpath\n",
    "import numpy as np\n",
    "import matplotlib.markers as mmarkers\n",
    "import matplotlib.pyplot as plt\n",
    "from matplotlib.legend_handler import (HandlerPathCollection, HandlerRegularPolyCollection,\n",
    "                                       HandlerNpointsYoffsets, HandlerTuple)\n",
    "from matplotlib.legend import Legend\n",
    "from matplotlib.collections import PathCollection\n",
    "from matplotlib.colors import to_rgba"
   ]
  },
  {
   "cell_type": "code",
   "execution_count": 2,
   "metadata": {},
   "outputs": [],
   "source": [
    "hexcolor = 'yellow'\n",
    "pentcolor = 'blue'\n",
    "linewidths = 0.5\n",
    "s = 1000"
   ]
  },
  {
   "cell_type": "markdown",
   "metadata": {},
   "source": [
    "# Create football markers"
   ]
  },
  {
   "cell_type": "markdown",
   "metadata": {},
   "source": [
    "The points are hard coded, but were created from this: https://github.com/andrewRowlinson/data-science/blob/master/data_visualization/matplotlib_football_marker.ipynb. The football needs to be plotted as two seperate paths, as each path needs to be filled in a different color."
   ]
  },
  {
   "cell_type": "code",
   "execution_count": 3,
   "metadata": {},
   "outputs": [],
   "source": [
    "# football hexagon arrays\n",
    "football_hexagon_codes = np.array([1, 3, 3, 3, 3, 4, 4, 4, 3, 3, 3, 3, 3, 3, 79, 1, 3,\n",
    "                                   3, 3, 3, 4, 4, 4, 3, 3, 3, 3, 3, 3, 79, 1, 3, 3, 3,\n",
    "                                   3, 4, 4, 4, 3, 3, 2, 3, 3, 79, 1, 2, 3, 3, 4, 4, 4,\n",
    "                                   3, 3, 3, 3, 3, 3, 79, 1, 3, 3, 3, 3, 4, 4, 4, 3, 3,\n",
    "                                   3, 3, 3, 3, 79, 1, 1, 1, 1])\n",
    "football_hexagon_vertices = np.array([[-0.22499999999999998, -0.3096859321060139],\n",
    "                                      [-0.3578624191511828, -0.42126390612162967],\n",
    "                                      [-0.4307248383023656, -0.5928418801372455],\n",
    "                                      [-0.29662436542138726, -0.7538845585184165],\n",
    "                                      [-0.22252389254040889, -0.9749272368995876],\n",
    "                                      [-0.07605800448461039, -1.0083575877001376],\n",
    "                                      [0.07605800448461039, -1.0083575877001376],\n",
    "                                      [0.22252389254040889, -0.9749272368995876],\n",
    "                                      [0.29662436542138726, -0.7538845585184165],\n",
    "                                      [0.43072483830236563, -0.5928418801372455],\n",
    "                                      [0.3578624191511828, -0.4212639061216298],\n",
    "                                      [0.22499999999999987, -0.30968593210601403],\n",
    "                                      [-0.00000000000000005551115123125783, -0.33968593210601394],\n",
    "                                      [-0.22499999999999998, -0.3096859321060139],\n",
    "                                      [-0.22499999999999998, -0.3096859321060139],\n",
    "                                      [0.22499999999999984, -0.309685932106014],\n",
    "                                      [0.35786241915118266, -0.42126390612162967],\n",
    "                                      [0.4307248383023654, -0.5928418801372455],\n",
    "                                      [0.6745860377099481, -0.5228718813250733],\n",
    "                                      [0.8584472371175307, -0.5129018825129013],\n",
    "                                      [0.9355018385938869, -0.38393509178776364],\n",
    "                                      [0.982508270481868, -0.2392641702247741],\n",
    "                                      [0.9959745660164324, -0.0896362864490644],\n",
    "                                      [0.8164509970942311, 0.038404580904486146],\n",
    "                                      [0.6969274281720299, 0.2264454482580367],\n",
    "                                      [0.5004925378203781, 0.1423674742424208],\n",
    "                                      [0.36405764746872626, 0.11828950022680491],\n",
    "                                      [0.3245288237343631, -0.06569821593960454],\n",
    "                                      [0.22499999999999984, -0.309685932106014],\n",
    "                                      [0.22499999999999984, -0.309685932106014],\n",
    "                                      [0.36405764746872626, 0.11828950022680493],\n",
    "                                      [0.5004925378203782, 0.14236747424242066],\n",
    "                                      [0.69692742817203, 0.22644544825803642],\n",
    "                                      [0.6950004453997567, 0.47219094443542353],\n",
    "                                      [0.7530734626274834, 0.6579364406128105],\n",
    "                                      [0.654229937273651, 0.77107265150149],\n",
    "                                      [0.531165500901059, 0.8604841982111864],\n",
    "                                      [0.3930222411881726, 0.919528965248744],\n",
    "                                      [0.22651112059408626, 0.7961609145035808],\n",
    "                                      [-0.00000000000000005551115123125783, 0.7327928637584178],\n",
    "                                      [0.00000000000000013877787807814457, 0.3827928637584179],\n",
    "                                      [0.2120288237343632, 0.28054118199261147],\n",
    "                                      [0.36405764746872626, 0.11828950022680493],\n",
    "                                      [0.36405764746872626, 0.11828950022680493],\n",
    "                                      [0.00000000000000013877787807814457, 0.38279286375841787],\n",
    "                                      [0.00000000000000016653345369377348, 0.7327928637584178],\n",
    "                                      [-0.226511120594086, 0.796160914503581],\n",
    "                                      [-0.3930222411881722, 0.9195289652487442],\n",
    "                                      [-0.5311655009010592, 0.8604841982111865],\n",
    "                                      [-0.6542299372736504, 0.771072651501486],\n",
    "                                      [-0.7530734626274826, 0.6579364406128061],\n",
    "                                      [-0.6950004453997563, 0.41219094443542137],\n",
    "                                      [-0.69692742817203, 0.22644544825803659],\n",
    "                                      [-0.5604925378203782, 0.14236747424242088],\n",
    "                                      [-0.36405764746872626, 0.1182895002268052],\n",
    "                                      [-0.21202882373436308, 0.28054118199261147],\n",
    "                                      [0.00000000000000013877787807814457, 0.38279286375841787],\n",
    "                                      [0.00000000000000013877787807814457, 0.38279286375841787],\n",
    "                                      [-0.36405764746872615, 0.11828950022680515],\n",
    "                                      [-0.560492537820378, 0.142367474242421],\n",
    "                                      [-0.6969274281720299, 0.2264454482580368],\n",
    "                                      [-0.8164509970942311, 0.03840458090448631],\n",
    "                                      [-0.9959745660164324, -0.08963628644906418],\n",
    "                                      [-0.9825082704818681, -0.23926417022477386],\n",
    "                                      [-0.9355018385938869, -0.38393509178776364],\n",
    "                                      [-0.8584472371175307, -0.5129018825129013],\n",
    "                                      [-0.6145860377099481, -0.5228718813250733],\n",
    "                                      [-0.43072483830236563, -0.5928418801372455],\n",
    "                                      [-0.3578624191511829, -0.42126390612162967],\n",
    "                                      [-0.2250000000000001, -0.30968593210601386],\n",
    "                                      [-0.3245288237343631, -0.12569821593960442],\n",
    "                                      [-0.36405764746872615, 0.11828950022680515],\n",
    "                                      [-0.36405764746872615, 0.11828950022680515],\n",
    "                                      [-1.0204451903760434, -1.0083575877001376],\n",
    "                                      [-1.0204451903760434, 1.0268236782504188],\n",
    "                                      [1.0204451903760436, -1.0083575877001376],\n",
    "                                      [1.0204451903760436, 1.0268236782504188]])\n",
    "\n",
    "# football pentagon arrays\n",
    "football_pentagon_codes = np.array([1, 3, 3, 3, 3, 3, 3, 3, 3, 3, 3, 79, 1, 3, 3, 4, 4,\n",
    "                                    4, 3, 3, 79, 1, 3, 3, 4, 4, 4, 3, 3, 79, 1, 3, 3, 4,\n",
    "                                    4, 4, 3, 3, 79, 1, 3, 3, 4, 4, 4, 3, 3, 79, 1, 3, 3,\n",
    "                                    4, 4, 4, 3, 3, 79, 1, 1, 1, 1])\n",
    "football_pentagon_vertices = np.array([[0.000000000000000023439302766909766, 0.38279286375841787],\n",
    "                                       [-0.21202882373436308, 0.28054118199261147],\n",
    "                                       [-0.3640576474687262, 0.11828950022680507],\n",
    "                                       [-0.3245288237343631, -0.12569821593960442],\n",
    "                                       [-0.22499999999999998, -0.3096859321060139],\n",
    "                                       [-0.00000000000000005551115123125783, -0.33968593210601394],\n",
    "                                       [0.22499999999999987, -0.30968593210601403],\n",
    "                                       [0.3245288237343631, -0.06569821593960454],\n",
    "                                       [0.36405764746872626, 0.11828950022680493],\n",
    "                                       [0.2120288237343632, 0.28054118199261147],\n",
    "                                       [0.00000000000000011719651383454883, 0.38279286375841787],\n",
    "                                       [0.00000000000000011719651383454883, 0.38279286375841787],\n",
    "                                       [0.43072483830236563, -0.5928418801372455],\n",
    "                                       [0.29662436542138726, -0.7538845585184165],\n",
    "                                       [0.22252389254040889, -0.9749272368995876],\n",
    "                                       [0.48867813807221294, -0.9141784174079514],\n",
    "                                       [0.7184254914884021, -0.7472571944544121],\n",
    "                                       [0.8584472371175307, -0.5129018825129013],\n",
    "                                       [0.6745860377099481, -0.5228718813250733],\n",
    "                                       [0.43072483830236563, -0.5928418801372455],\n",
    "                                       [0.43072483830236563, -0.5928418801372455],\n",
    "                                       [0.6969274281720299, 0.2264454482580367],\n",
    "                                       [0.8164509970942311, 0.038404580904486146],\n",
    "                                       [0.9959745660164324, -0.0896362864490644],\n",
    "                                       [1.0204451903760436, 0.18226386071471035],\n",
    "                                       [0.9326895101963948, 0.4523480728972359],\n",
    "                                       [0.7530734626274834, 0.6579364406128105],\n",
    "                                       [0.6950004453997567, 0.47219094443542353],\n",
    "                                       [0.6969274281720299, 0.2264454482580367],\n",
    "                                       [0.6969274281720299, 0.2264454482580367],\n",
    "                                       [-0.00000000000000005551115123125783, 0.7327928637584178],\n",
    "                                       [0.22651112059408626, 0.7961609145035808],\n",
    "                                       [0.3930222411881726, 0.919528965248744],\n",
    "                                       [0.1419916732365391, 1.0268236782504185],\n",
    "                                       [-0.14199167323653866, 1.0268236782504188],\n",
    "                                       [-0.3930222411881722, 0.9195289652487442],\n",
    "                                       [-0.226511120594086, 0.796160914503581],\n",
    "                                       [-0.00000000000000005551115123125783, 0.7327928637584178],\n",
    "                                       [-0.00000000000000005551115123125783, 0.7327928637584178],\n",
    "                                       [-0.69692742817203, 0.22644544825803659],\n",
    "                                       [-0.6950004453997563, 0.41219094443542137],\n",
    "                                       [-0.7530734626274826, 0.6579364406128061],\n",
    "                                       [-0.9326895101963917, 0.452348072897233],\n",
    "                                       [-1.0204451903760434, 0.18226386071470885],\n",
    "                                       [-0.9959745660164324, -0.08963628644906418],\n",
    "                                       [-0.8164509970942311, 0.03840458090448631],\n",
    "                                       [-0.69692742817203, 0.22644544825803659],\n",
    "                                       [-0.69692742817203, 0.22644544825803659],\n",
    "                                       [-0.43072483830236563, -0.5928418801372455],\n",
    "                                       [-0.6145860377099481, -0.5228718813250733],\n",
    "                                       [-0.8584472371175307, -0.5129018825129013],\n",
    "                                       [-0.7184254914884021, -0.7472571944544121],\n",
    "                                       [-0.48867813807221294, -0.9141784174079514],\n",
    "                                       [-0.22252389254040889, -0.9749272368995876],\n",
    "                                       [-0.29662436542138726, -0.7538845585184165],\n",
    "                                       [-0.43072483830236563, -0.5928418801372455],\n",
    "                                       [-0.43072483830236563, -0.5928418801372455],\n",
    "                                       [-1.0204451903760434, -1.0083575877001376],\n",
    "                                       [-1.0204451903760434, 1.0268236782504188],\n",
    "                                       [1.0204451903760436, -1.0083575877001376],\n",
    "                                       [1.0204451903760436, 1.0268236782504188]])\n",
    "\n",
    "football_hexagon_marker = mpath.Path(football_hexagon_vertices, football_hexagon_codes)\n",
    "football_pentagon_marker = mpath.Path(football_pentagon_vertices, football_pentagon_codes)"
   ]
  },
  {
   "cell_type": "markdown",
   "metadata": {},
   "source": [
    "# Method 1: This method works using HandlerTuple."
   ]
  },
  {
   "cell_type": "code",
   "execution_count": 4,
   "metadata": {},
   "outputs": [
    {
     "data": {
      "text/plain": [
       "<matplotlib.legend.Legend at 0x7fe8f5e8cb80>"
      ]
     },
     "execution_count": 4,
     "metadata": {},
     "output_type": "execute_result"
    },
    {
     "data": {
      "image/png": "[encoded data removed]",
      "text/plain": [
       "<Figure size 432x288 with 1 Axes>"
      ]
     },
     "metadata": {
      "needs_background": "light"
     },
     "output_type": "display_data"
    }
   ],
   "source": [
    "fig, ax = plt.subplots()\n",
    "sc = ax.scatter(20,20, label='circle',s=1000)\n",
    "hex_sc = ax.scatter(50,50,edgecolors=pentcolor,facecolors=hexcolor,s=1000, \n",
    "                    marker=football_hexagon_marker,zorder=2)\n",
    "pent_sc = ax.scatter(50,50,edgecolors=pentcolor,facecolors=pentcolor,s=1000,\n",
    "                     marker=football_pentagon_marker,zorder=2)\n",
    "handles, labels = ax.get_legend_handles_labels()\n",
    "labels.append('goal')\n",
    "handles.append((hex_sc, pent_sc))\n",
    "ax.legend(handles,labels, borderpad=2)"
   ]
  },
  {
   "cell_type": "markdown",
   "metadata": {},
   "source": [
    "# Method 2: Create a HandlerFootball class"
   ]
  },
  {
   "cell_type": "code",
   "execution_count": 5,
   "metadata": {},
   "outputs": [],
   "source": [
    "class HandlerFootball(HandlerPathCollection):   \n",
    "    \n",
    "    def create_collection(self, orig_handle, sizes, offsets, transOffset):\n",
    "        edgecolor = orig_handle.get_edgecolor()[0]\n",
    "        facecolor = orig_handle.get_facecolor()[0]\n",
    "        sizes = [size*0.249 for size in sizes]\n",
    "        p = type(orig_handle)([football_hexagon_marker, football_pentagon_marker],\n",
    "                              sizes=sizes,\n",
    "                              offsets=offsets,\n",
    "                              transOffset=transOffset,\n",
    "                              facecolors=[facecolor, edgecolor],\n",
    "                              edgecolors=edgecolor)\n",
    "        return p\n",
    "    \n",
    "    def _default_update_prop(self, legend_handle, orig_handle):\n",
    "        facecolor = legend_handle.get_facecolor()\n",
    "        edgecolor = legend_handle.get_edgecolor()\n",
    "        legend_handle.update_from(orig_handle)\n",
    "        legend_handle.set_facecolor(facecolor)\n",
    "        legend_handle.set_edgecolor(edgecolor)"
   ]
  },
  {
   "cell_type": "code",
   "execution_count": 6,
   "metadata": {},
   "outputs": [
    {
     "data": {
      "text/plain": [
       "<matplotlib.legend.Legend at 0x7fe8f568c310>"
      ]
     },
     "execution_count": 6,
     "metadata": {},
     "output_type": "execute_result"
    },
    {
     "data": {
      "image/png": "[encoded data removed]",
      "text/plain": [
       "<Figure size 432x288 with 1 Axes>"
      ]
     },
     "metadata": {
      "needs_background": "light"
     },
     "output_type": "display_data"
    }
   ],
   "source": [
    "fig, ax = plt.subplots()\n",
    "sc = ax.scatter(20,20, label='circle',s=1000)\n",
    "hex_sc = ax.scatter(50,50,edgecolors=pentcolor,facecolors=hexcolor,s=1000, \n",
    "                    marker=football_hexagon_marker,zorder=2, label='goal')\n",
    "Legend.update_default_handler_map({hex_sc: HandlerFootball()})  \n",
    "pent_sc = ax.scatter(50,50,edgecolors=pentcolor,facecolors=pentcolor,s=1000,\n",
    "                     marker=football_pentagon_marker,zorder=2)\n",
    "ax.legend(borderpad=2)"
   ]
  }
 ],
 "metadata": {
  "kernelspec": {
   "display_name": "Python 3",
   "language": "python",
   "name": "python3"
  },
  "language_info": {
   "codemirror_mode": {
    "name": "ipython",
    "version": 3
   },
   "file_extension": ".py",
   "mimetype": "text/x-python",
   "name": "python",
   "nbconvert_exporter": "python",
   "pygments_lexer": "ipython3",
   "version": "3.8.2"
  }
 },
 "nbformat": 4,
 "nbformat_minor": 4
}
